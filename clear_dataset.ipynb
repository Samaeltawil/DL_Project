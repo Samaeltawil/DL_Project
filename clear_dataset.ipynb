{
 "cells": [
  {
   "cell_type": "markdown",
   "metadata": {},
   "source": [
    "use this to clear the dataset from images that do not contain text\n",
    "\n",
    "please run the preprocessing in the main file before"
   ]
  },
  {
   "cell_type": "code",
   "execution_count": 1,
   "metadata": {},
   "outputs": [],
   "source": [
    "import os\n",
    "import pandas as pd\n",
    "\n",
    "path_csv = 'dataset/MMHS150K_GT_cleared.csv'\n",
    "image_path = 'dataset/img_resized/'"
   ]
  },
  {
   "cell_type": "code",
   "execution_count": 2,
   "metadata": {},
   "outputs": [
    {
     "name": "stdout",
     "output_type": "stream",
     "text": [
      "1108265246899105793\n",
      "<class 'int'>\n",
      "59252\n"
     ]
    }
   ],
   "source": [
    "id_list = []\n",
    "\n",
    "GT_data = pd.read_csv(path_csv)\n",
    "# print(GT_data)\n",
    "# ID = GT_data.iloc[:, 0]\n",
    "id_list = GT_data.iloc[:, 0].tolist()\n",
    "\n",
    "# print(id_list)\n",
    "\n",
    "print(id_list[10000])\n",
    "# id_list = str(id_list)\n",
    "print(type(id_list[10]))\n",
    "print(len(id_list))"
   ]
  },
  {
   "cell_type": "code",
   "execution_count": 5,
   "metadata": {},
   "outputs": [
    {
     "name": "stdout",
     "output_type": "stream",
     "text": [
      "90748 files deleted\n"
     ]
    }
   ],
   "source": [
    "cmpt = 0 \n",
    "for file in os.listdir(image_path):\n",
    "    # remove the .jpeg\n",
    "    # print(ID[1])\n",
    "    if int(file[:-4]) not in id_list:\n",
    "        try:\n",
    "            os.remove(os.path.join(image_path, file))\n",
    "            cmpt += 1\n",
    "        except:\n",
    "            print('Error while deleting file')\n",
    "            pass\n",
    "    # else:\n",
    "    #     print(file, 'is in the list')\n",
    "\n",
    "print(cmpt, 'files deleted')"
   ]
  },
  {
   "cell_type": "code",
   "execution_count": null,
   "metadata": {},
   "outputs": [],
   "source": []
  }
 ],
 "metadata": {
  "kernelspec": {
   "display_name": "DL_mp",
   "language": "python",
   "name": "python3"
  },
  "language_info": {
   "codemirror_mode": {
    "name": "ipython",
    "version": 3
   },
   "file_extension": ".py",
   "mimetype": "text/x-python",
   "name": "python",
   "nbconvert_exporter": "python",
   "pygments_lexer": "ipython3",
   "version": "3.12.3"
  }
 },
 "nbformat": 4,
 "nbformat_minor": 2
}
