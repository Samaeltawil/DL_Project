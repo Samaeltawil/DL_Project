{
 "cells": [
  {
   "cell_type": "code",
   "execution_count": null,
   "metadata": {},
   "outputs": [],
   "source": [
    "import pandas as pd\n",
    "import numpy as np\n",
    "from sklearn.metrics import roc_curve, auc\n",
    "import matplotlib.pyplot as plt\n",
    "import os"
   ]
  },
  {
   "cell_type": "code",
   "execution_count": null,
   "metadata": {},
   "outputs": [],
   "source": [
    "def load_labels_outputs(file_path):\n",
    "    \"\"\"\n",
    "    Load labels and outputs from a CSV file.\n",
    "\n",
    "    Parameters:\n",
    "    - file_path (str): Path to the CSV file.\n",
    "\n",
    "    Returns:\n",
    "    - labels (list): List of labels.\n",
    "    - outputs (list): List of outputs.\n",
    "    \"\"\"\n",
    "    df = pd.read_csv(file_path)\n",
    "    labels = df['labels'].tolist()\n",
    "    outputs = df['outputs'].tolist()\n",
    "    return labels, outputs\n",
    "\n",
    "def plot_comparative_roc(file_paths, model_names, save_path):\n",
    "    \"\"\"\n",
    "    Plot comparative ROC curves for different models and save the plot.\n",
    "\n",
    "    Parameters:\n",
    "    - file_paths (list of str): List of paths to the CSV files containing labels and outputs.\n",
    "    - model_names (list of str): List of model names corresponding to the CSV files.\n",
    "    - save_path (str): Path to save the comparative ROC plot.\n",
    "    \"\"\"\n",
    "    plt.figure()\n",
    "    for file_path, model_name in zip(file_paths, model_names):\n",
    "        labels, outputs = load_labels_outputs(file_path)\n",
    "        fpr, tpr, _ = roc_curve(labels, outputs)\n",
    "        roc_auc = auc(fpr, tpr)\n",
    "        plt.plot(fpr, tpr, lw=2, label=f'{model_name} (area = {roc_auc:0.2f})')\n",
    "\n",
    "    plt.plot([0, 1], [0, 1], color='navy', lw=2, linestyle='--')\n",
    "    plt.xlim([0.0, 1.0])\n",
    "    plt.ylim([0.0, 1.05])\n",
    "    plt.xlabel('False Positive Rate')\n",
    "    plt.ylabel('True Positive Rate')\n",
    "    plt.title('Comparative ROC Curve')\n",
    "    plt.legend(loc=\"lower right\")\n",
    "    os.makedirs(os.path.dirname(save_path), exist_ok=True)\n",
    "    plt.savefig(save_path)\n",
    "    plt.close()\n"
   ]
  },
  {
   "cell_type": "code",
   "execution_count": null,
   "metadata": {},
   "outputs": [],
   "source": [
    "# Paths to the CSV files containing labels and outputs\n",
    "file_paths = [\n",
    "    \"results/labels_outputs_model1.csv\",\n",
    "    \"results/labels_outputs_model2.csv\",\n",
    "    \"results/to/labels_outputs_model3.csv\"\n",
    "]\n",
    "\n",
    "# Corresponding model names\n",
    "model_names = [\n",
    "    \"Model 1\",\n",
    "    \"Model 2\",\n",
    "    \"Model 3\"\n",
    "]\n",
    "\n",
    "# Path to save the comparative ROC plot\n",
    "save_path = \"results\"\n",
    "\n",
    "# Plot and save the comparative ROC curve\n",
    "plot_comparative_roc(file_paths, model_names, save_path)\n",
    "\n",
    "print(f\"Comparative ROC curve saved at {save_path}\")\n"
   ]
  }
 ],
 "metadata": {
  "language_info": {
   "name": "python"
  }
 },
 "nbformat": 4,
 "nbformat_minor": 2
}
